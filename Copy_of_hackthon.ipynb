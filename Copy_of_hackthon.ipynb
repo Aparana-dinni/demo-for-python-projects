{
  "nbformat": 4,
  "nbformat_minor": 0,
  "metadata": {
    "colab": {
      "provenance": [],
      "authorship_tag": "ABX9TyMldiHRPr2gyfJoYrX2Fh8D",
      "include_colab_link": true
    },
    "kernelspec": {
      "name": "python3",
      "display_name": "Python 3"
    },
    "language_info": {
      "name": "python"
    }
  },
  "cells": [
    {
      "cell_type": "markdown",
      "metadata": {
        "id": "view-in-github",
        "colab_type": "text"
      },
      "source": [
        "<a href=\"https://colab.research.google.com/github/Aparana-dinni/demo-for-python-projects/blob/main/Copy_of_hackthon.ipynb\" target=\"_parent\"><img src=\"https://colab.research.google.com/assets/colab-badge.svg\" alt=\"Open In Colab\"/></a>"
      ]
    },
    {
      "cell_type": "code",
      "execution_count": null,
      "metadata": {
        "id": "wHEP71wFqoGj"
      },
      "outputs": [],
      "source": []
    },
    {
      "cell_type": "markdown",
      "source": [
        "Problem statement :\n",
        "to develop linear regression model for the given data set"
      ],
      "metadata": {
        "id": "6iv0DYlmqqrx"
      }
    },
    {
      "cell_type": "markdown",
      "source": [
        "** Installing & Importing Libraries**\n"
      ],
      "metadata": {
        "id": "7gBETrvhq_7K"
      }
    },
    {
      "cell_type": "code",
      "source": [
        "!pip install -q datascience                   # Package that is required by pandas profiling\n",
        "!pip install -q pandas-profiling              # Library to generate basic statistics about data \n",
        "# !pip install pandas==0.25"
      ],
      "metadata": {
        "id": "1z7BcLYqrPQS"
      },
      "execution_count": null,
      "outputs": []
    },
    {
      "cell_type": "markdown",
      "source": [
        "Importing Packages"
      ],
      "metadata": {
        "id": "0l_Wpd2YrQpj"
      }
    },
    {
      "cell_type": "code",
      "source": [
        "#------------------------------------------------------------------------------------------------------------------------------\n",
        "import pandas as pd                                                 # Importing for panel data analysis\n",
        "from pandas_profiling import ProfileReport                          # Import Pandas Profiling (To generate Univariate Analysis) \n",
        "pd.set_option('display.max_columns', None)                          # Unfolding hidden features if the cardinality is high      \n",
        "pd.set_option('display.max_rows', None)                             # Unfolding hidden data points if the cardinality is high\n",
        "pd.set_option('mode.chained_assignment', None)                      # Removing restriction over chained assignments operations\n",
        "pd.set_option('display.float_format', lambda x: '%.5f' % x)         # To suppress scientific notation over exponential values\n",
        "#-------------------------------------------------------------------------------------------------------------------------------\n",
        "import numpy as np                                                  # Importing package numpys (For Numerical Python)\n",
        "#-------------------------------------------------------------------------------------------------------------------------------\n",
        "import matplotlib.pyplot as plt                                     # Importing pyplot interface using matplotlib\n",
        "import seaborn as sns                                               # Importin seaborm library for interactive visualization\n",
        "%matplotlib inline\n",
        "#-------------------------------------------------------------------------------------------------------------------------------\n",
        "from sklearn.model_selection import train_test_split                # To split the data in training and testing part     \n",
        "from sklearn.linear_model import LinearRegression\n",
        "#-------------------------------------------------------------------------------------------------------------------------------\n",
        "import warnings                                                     # Importing warning to disable runtime warnings\n",
        "warnings.filterwarnings(\"ignore\")  "
      ],
      "metadata": {
        "id": "I6ehD5I0rUBr"
      },
      "execution_count": null,
      "outputs": []
    },
    {
      "cell_type": "markdown",
      "source": [
        " Data Acquisition & Description"
      ],
      "metadata": {
        "id": "I84CmxXSrXkR"
      }
    },
    {
      "cell_type": "code",
      "source": [
        "url = \"https://github.com/Aparana-dinni/demo-for-python-projects/blob/main/testdata.csv\"\n",
        "data = pd.read_csv(url)\n",
        "print('Data Shape:', data.shape)\n",
        "data.head()"
      ],
      "metadata": {
        "id": "onutZy9tra5L"
      },
      "execution_count": null,
      "outputs": []
    },
    {
      "cell_type": "code",
      "source": [],
      "metadata": {
        "id": "Ak37wGTD98js"
      },
      "execution_count": null,
      "outputs": []
    },
    {
      "cell_type": "markdown",
      "source": [
        "The dataset contains 1698 rows and 2 columns."
      ],
      "metadata": {
        "id": "rDGazmBEvv62"
      }
    },
    {
      "cell_type": "markdown",
      "source": [
        "4.1 Data Description\n",
        "In this section we will get information about the data and see some observations."
      ],
      "metadata": {
        "id": "SpLHlvsov5ud"
      }
    },
    {
      "cell_type": "code",
      "source": [
        "data.describe()"
      ],
      "metadata": {
        "id": "nQ0QRrXSv9zu"
      },
      "execution_count": null,
      "outputs": []
    },
    {
      "cell_type": "markdown",
      "source": [
        "Observation:\n",
        "\n"
      ],
      "metadata": {
        "id": "VwmSjUTBwPeF"
      }
    },
    {
      "cell_type": "markdown",
      "source": [
        "4.2 Data Information\n",
        "In this section we will see the information about the types of features."
      ],
      "metadata": {
        "id": "nSoGay33wVyD"
      }
    },
    {
      "cell_type": "code",
      "source": [
        "data.info(verbose = True, memory_usage = 'deep', null_counts = True)"
      ],
      "metadata": {
        "id": "yaKXl3w3wXiu"
      },
      "execution_count": null,
      "outputs": []
    },
    {
      "cell_type": "markdown",
      "source": [
        "Observation:\n",
        "\n",
        "There are no null values present in this data set.\n",
        "\n",
        "Each feature seems to have correct data type."
      ],
      "metadata": {
        "id": "DsqkhzSIwvTO"
      }
    },
    {
      "cell_type": "markdown",
      "source": [
        "Data Pre-Processing"
      ],
      "metadata": {
        "id": "ImBF-477wztS"
      }
    },
    {
      "cell_type": "markdown",
      "source": [
        "5.1 Pre Profiling Report\n",
        "For quick analysis pandas profiling is very handy.\n",
        "\n",
        "Generates profile reports from a pandas DataFrame.\n",
        "\n",
        "For each column statistics are presented in an interactive HTML report."
      ],
      "metadata": {
        "id": "rKXzpfgDw0_B"
      }
    },
    {
      "cell_type": "markdown",
      "source": [
        "Note : To check your profiling please uncomment the code and run it"
      ],
      "metadata": {
        "id": "iUyie7_0xtNi"
      }
    },
    {
      "cell_type": "code",
      "source": [
        "# profile = ProfileReport(df = data)\n",
        "# profile.to_file(outputfile = 'Pre Profiling Report.html')\n",
        "# print('Accomplished!')"
      ],
      "metadata": {
        "id": "UbxJp6MwxvHm"
      },
      "execution_count": null,
      "outputs": []
    },
    {
      "cell_type": "code",
      "source": [
        "# from google.colab import files                   # Use only if you are using Google Colab, otherwise remove it\n",
        "# files.download('Pre Profiling Report.html')      # Use only if you are using Google Colab, otherwise remove it"
      ],
      "metadata": {
        "id": "K_CLaERKxzZR"
      },
      "execution_count": null,
      "outputs": []
    },
    {
      "cell_type": "markdown",
      "source": [
        "Observation:\n",
        "\n",
        "\n",
        "For full details checkout the report."
      ],
      "metadata": {
        "id": "QhQJE2Cax6Qx"
      }
    },
    {
      "cell_type": "markdown",
      "source": [
        "6. Exploratory Data Analysis"
      ],
      "metadata": {
        "id": "xSYGi7lTyBnC"
      }
    },
    {
      "cell_type": "markdown",
      "source": [
        "Is there a relationship between x and y "
      ],
      "metadata": {
        "id": "O6Y7QL7NyOPT"
      }
    },
    {
      "cell_type": "code",
      "source": [
        "JG1 = sns.jointplot(\"x\", \"y\", data=data, kind='reg')\n",
        "\n"
      ],
      "metadata": {
        "id": "kYhUubCyyPbS"
      },
      "execution_count": null,
      "outputs": []
    },
    {
      "cell_type": "markdown",
      "source": [
        "Observation\n",
        "\n",
        "Sales and spend on newpaper is not highly correlaed where as sales and spend on tv is highly correlated."
      ],
      "metadata": {
        "id": "nVQ5HNavyXs-"
      }
    },
    {
      "cell_type": "markdown",
      "source": [
        "Visualising Pairwise correlation"
      ],
      "metadata": {
        "id": "ssjmfiLfyb5p"
      }
    },
    {
      "cell_type": "code",
      "source": [
        "sns.heatmap(data.corr(), annot=True );"
      ],
      "metadata": {
        "id": "fyYjLJ_6yiYc"
      },
      "execution_count": null,
      "outputs": []
    },
    {
      "cell_type": "markdown",
      "source": [
        "Observation\n",
        "\n",
        "Note: These are few question we need to analyze before moving further and if you want to dig deeper into this, feel free to do so..."
      ],
      "metadata": {
        "id": "Su0NfgXaylkE"
      }
    },
    {
      "cell_type": "markdown",
      "source": [
        "7. Post Data Processing"
      ],
      "metadata": {
        "id": "7AaERIpZyqjC"
      }
    },
    {
      "cell_type": "markdown",
      "source": [
        "7.1 Data Standardization\n",
        "Standardization\n",
        "\n",
        "Variables that are measured at different scales do not contribute equally to the model fitting and might end up creating a bias.\n",
        "\n",
        "To deal with this potential problem feature-wise standardization (μ=0, σ=1) is usually used prior to model fitting.\n",
        "\n",
        "[ ]\n"
      ],
      "metadata": {
        "id": "hDmfDpX7yxvD"
      }
    },
    {
      "cell_type": "code",
      "source": [
        "from sklearn.preprocessing import StandardScaler\n",
        "scaler = StandardScaler().fit(data)\n",
        "data1 = scaler.transform(data)"
      ],
      "metadata": {
        "id": "SKmCaMd6ysJG"
      },
      "execution_count": null,
      "outputs": []
    },
    {
      "cell_type": "code",
      "source": [
        "data = pd.DataFrame(data1)\n",
        "data.columns = ['input_data']\n",
        "data.head()"
      ],
      "metadata": {
        "id": "2IT52Yloy84r"
      },
      "execution_count": null,
      "outputs": []
    },
    {
      "cell_type": "markdown",
      "source": [
        "7.1 Data Preparation\n",
        "Now we will split our data into dependent and independent variables for further development."
      ],
      "metadata": {
        "id": "_HwpdIxQzAvB"
      }
    },
    {
      "cell_type": "code",
      "source": [
        "feature_cols = ['input_data']                # create a Python list of feature names\n",
        "X = data[feature_cols]    "
      ],
      "metadata": {
        "id": "LdfkojVYy82H"
      },
      "execution_count": null,
      "outputs": []
    },
    {
      "cell_type": "code",
      "source": [
        "y = data.output_data\n",
        "y.head()"
      ],
      "metadata": {
        "id": "NYt4hVA7y8xW"
      },
      "execution_count": null,
      "outputs": []
    },
    {
      "cell_type": "markdown",
      "source": [
        "Now we will split our data into training and testing"
      ],
      "metadata": {
        "id": "8GE7tm0mzI76"
      }
    },
    {
      "cell_type": "code",
      "source": [
        "from sklearn.model_selection import train_test_split\n",
        "\n",
        "def split(X,y):\n",
        "    return train_test_split(X, y, test_size=0.20, random_state=1)"
      ],
      "metadata": {
        "id": "qsQb6cgWy8sD"
      },
      "execution_count": null,
      "outputs": []
    },
    {
      "cell_type": "code",
      "source": [
        "X_train, X_test, y_train, y_test=split(X,y)\n",
        "print('Train cases as below')\n",
        "print('X_train shape: ',X_train.shape)\n",
        "print('y_train shape: ',y_train.shape)\n",
        "print('\\nTest cases as below')\n",
        "print('X_test shape: ',X_test.shape)\n",
        "print('y_test shape: ',y_test.shape)"
      ],
      "metadata": {
        "id": "3hl5MrL6zPEQ"
      },
      "execution_count": null,
      "outputs": []
    },
    {
      "cell_type": "markdown",
      "source": [
        "8. Model Development & Evaluation\n",
        "In this section we will develop Linear Regression model\n",
        "\n",
        "Then we will analyze the results obtained and make our observations.\n",
        "\n",
        "For evaluation purpose we will focus on MSE, MAE and RMSE scores.\n",
        "\n",
        "We will do feature selection and see if the scores improves.\n",
        "\n",
        "We will also add a new categorical feature Area and assign values randomly and see if we can improve the scores."
      ],
      "metadata": {
        "id": "2Xl_jX3pzTCy"
      }
    },
    {
      "cell_type": "markdown",
      "source": [
        "8.1 Linear regression in scikit-learn\n",
        "To apply any machine learning algorithm on your dataset, basically there are 4 steps:\n",
        "\n",
        "Load the algorithm\n",
        "\n",
        "Instantiate and Fit the model to the training dataset\n",
        "\n",
        "Prediction on the test set\n",
        "\n",
        "Calculating Root mean square error"
      ],
      "metadata": {
        "id": "f4CrVDfizYEs"
      }
    },
    {
      "cell_type": "code",
      "source": [
        "from sklearn.linear_model import LinearRegression"
      ],
      "metadata": {
        "id": "g5lvcNpJzg7K"
      },
      "execution_count": null,
      "outputs": []
    },
    {
      "cell_type": "code",
      "source": [
        "linreg = LinearRegression()\n",
        "linreg.fit(X_train, y_train) "
      ],
      "metadata": {
        "id": "U00fm92pzf-u"
      },
      "execution_count": null,
      "outputs": []
    },
    {
      "cell_type": "markdown",
      "source": [
        "8.2 Interpreting Model Coefficients"
      ],
      "metadata": {
        "id": "KKJJ9oIBzq4T"
      }
    },
    {
      "cell_type": "code",
      "source": [
        "print('Intercept:',linreg.intercept_)          # print the intercept \n",
        "print('Coefficients:',linreg.coef_)  "
      ],
      "metadata": {
        "id": "waIrZ2AhzrsF"
      },
      "execution_count": null,
      "outputs": []
    },
    {
      "cell_type": "markdown",
      "source": [
        "Using the Model for Prediction"
      ],
      "metadata": {
        "id": "cWzY-eb10s02"
      }
    },
    {
      "cell_type": "code",
      "source": [
        "y_pred_train = linreg.predict(X_train)"
      ],
      "metadata": {
        "id": "wmjNYj6r04TN"
      },
      "execution_count": null,
      "outputs": []
    },
    {
      "cell_type": "code",
      "source": [
        "y_pred_test = linreg.predict(X_test)  "
      ],
      "metadata": {
        "id": "U7kJRFl107oN"
      },
      "execution_count": null,
      "outputs": []
    },
    {
      "cell_type": "markdown",
      "source": [
        "Let's Plot and see how our model is predicting with the test data"
      ],
      "metadata": {
        "id": "I05gXH8a1BET"
      }
    },
    {
      "cell_type": "code",
      "source": [
        "sns.regplot(y_test,y_pred_test)\n",
        "plt.xlabel('Actual Values')\n",
        "plt.ylabel('Predicted Values')"
      ],
      "metadata": {
        "id": "oh2U8yh31I1p"
      },
      "execution_count": null,
      "outputs": []
    },
    {
      "cell_type": "markdown",
      "source": [
        "8.4 Model evaluation\n",
        "Error is the deviation of the values predicted by the model with the true values.\n",
        "\n",
        "For example, if a model predicts that the price of apple is Rs75/kg, but the actual price of apple is Rs100/kg, then the error in prediction will be Rs25/kg.\n",
        "\n",
        "Below are the types of error we will be calculating for our linear regression model:\n",
        "\n",
        "Mean Absolute Error\n",
        "Mean Squared Error\n",
        "Root Mean Squared Error"
      ],
      "metadata": {
        "id": "AX1r3xAh1UOm"
      }
    }
  ]
}